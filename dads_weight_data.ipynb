{
 "cells": [
  {
   "cell_type": "code",
   "execution_count": null,
   "id": "f55cabe5-9c8c-4b04-9ff6-722072f66a62",
   "metadata": {},
   "outputs": [],
   "source": [
    "# Dad's weight project\n",
    "Papa has been monitoring his weight for about 6 months, but he doesn't plot it, or enter it very nicely.\n",
    "I have placed his data into ```raw_weight_data_2-2022_8-2022.txt```.\n",
    "\n",
    "To graph his weight over time, I need to parse the data. It seems there is a consistent trend of putting\n",
    "```month/day------=weight```. Lets see if we can use python to parse this nicely."
   ]
  },
  {
   "cell_type": "code",
   "execution_count": 84,
   "id": "1d57f870-420a-41d6-8dc2-c22307186a62",
   "metadata": {},
   "outputs": [],
   "source": [
    "import re\n",
    "import pandas as pd\n",
    "import matplotlib.pyplot as plt\n",
    "from math import floor"
   ]
  },
  {
   "cell_type": "code",
   "execution_count": 8,
   "id": "d2ad26f4-d2d5-4a64-9756-90dd611abade",
   "metadata": {},
   "outputs": [
    {
     "name": "stdout",
     "output_type": "stream",
     "text": [
      "/ nm / nm / 248.0-3.6=244.4\n",
      "\n",
      "2/23,wed,12:00, nm / nm / nm / 247.7-3.6=244.1\n",
      "\n",
      "2/22,tue,12:00, nm / nm / nm / 244.1-3.6=240.5\n",
      "\n",
      "2/21,mon,11:00, nm / nm / nm / 242.7-3.6=239.1\n",
      "Ate dinner at mom's place.\n",
      "\n",
      "\n"
     ]
    }
   ],
   "source": [
    "with open('raw_weight_data_2-2022_8-2022.txt') as file:\n",
    "    data = file.read()\n",
    "print(data[len(data)-200:])"
   ]
  },
  {
   "cell_type": "code",
   "execution_count": 44,
   "id": "d7829cc8-d2c6-4022-b377-87b7793919c6",
   "metadata": {},
   "outputs": [
    {
     "data": {
      "text/plain": [
       "re.compile(r'^\\d/\\d{1,2}.+=\\d+\\.?\\d?', re.MULTILINE|re.UNICODE)"
      ]
     },
     "execution_count": 44,
     "metadata": {},
     "output_type": "execute_result"
    }
   ],
   "source": [
    "pattern = re.compile('^\\d/\\d{1,2}.+=\\d+\\.?\\d?',re.MULTILINE)\n",
    "pattern"
   ]
  },
  {
   "cell_type": "code",
   "execution_count": 45,
   "id": "da205107-d8c7-4510-a821-8820640d8cfd",
   "metadata": {},
   "outputs": [
    {
     "name": "stdout",
     "output_type": "stream",
     "text": [
      "3/9,wed,12:00, 162 / 88 / 67 / 244.0-3.6=240.4 \n",
      " 182\n"
     ]
    }
   ],
   "source": [
    "matches = pattern.findall(data)\n",
    "print(matches[0], \"\\n\" ,len(matches))"
   ]
  },
  {
   "cell_type": "code",
   "execution_count": 54,
   "id": "4feb0562-6f7a-4628-9f2e-c6de02940bb3",
   "metadata": {},
   "outputs": [
    {
     "data": {
      "text/html": [
       "<div>\n",
       "<style scoped>\n",
       "    .dataframe tbody tr th:only-of-type {\n",
       "        vertical-align: middle;\n",
       "    }\n",
       "\n",
       "    .dataframe tbody tr th {\n",
       "        vertical-align: top;\n",
       "    }\n",
       "\n",
       "    .dataframe thead th {\n",
       "        text-align: right;\n",
       "    }\n",
       "</style>\n",
       "<table border=\"1\" class=\"dataframe\">\n",
       "  <thead>\n",
       "    <tr style=\"text-align: right;\">\n",
       "      <th></th>\n",
       "      <th>dates</th>\n",
       "      <th>weights</th>\n",
       "    </tr>\n",
       "  </thead>\n",
       "  <tbody>\n",
       "    <tr>\n",
       "      <th>0</th>\n",
       "      <td>3/9/22</td>\n",
       "      <td>240.4</td>\n",
       "    </tr>\n",
       "    <tr>\n",
       "      <th>1</th>\n",
       "      <td>8/23/22</td>\n",
       "      <td>230.6</td>\n",
       "    </tr>\n",
       "    <tr>\n",
       "      <th>2</th>\n",
       "      <td>8/22/22</td>\n",
       "      <td>230.3</td>\n",
       "    </tr>\n",
       "    <tr>\n",
       "      <th>3</th>\n",
       "      <td>8/21/22</td>\n",
       "      <td>230.8</td>\n",
       "    </tr>\n",
       "    <tr>\n",
       "      <th>4</th>\n",
       "      <td>8/20/22</td>\n",
       "      <td>227.6</td>\n",
       "    </tr>\n",
       "  </tbody>\n",
       "</table>\n",
       "</div>"
      ],
      "text/plain": [
       "     dates weights\n",
       "0   3/9/22   240.4\n",
       "1  8/23/22   230.6\n",
       "2  8/22/22   230.3\n",
       "3  8/21/22   230.8\n",
       "4  8/20/22   227.6"
      ]
     },
     "execution_count": 54,
     "metadata": {},
     "output_type": "execute_result"
    }
   ],
   "source": [
    "dates = []\n",
    "weights = []\n",
    "for entry in matches:\n",
    "    date = entry.split(',')[0]\n",
    "    if date[-3:] != '/22' or len(date) < 5:\n",
    "        date += '/22'\n",
    "    dates.append(date)\n",
    "    \n",
    "    weight = entry.split('=')[1]\n",
    "    weights.append(weight)\n",
    "    \n",
    "df = pd.DataFrame(list(zip(dates, weights)), columns=['dates', 'weights'])\n",
    "df.head()"
   ]
  },
  {
   "cell_type": "code",
   "execution_count": 60,
   "id": "23c0a9c8-0a32-4081-9b8c-4b0dbac7c720",
   "metadata": {},
   "outputs": [
    {
     "data": {
      "text/html": [
       "<div>\n",
       "<style scoped>\n",
       "    .dataframe tbody tr th:only-of-type {\n",
       "        vertical-align: middle;\n",
       "    }\n",
       "\n",
       "    .dataframe tbody tr th {\n",
       "        vertical-align: top;\n",
       "    }\n",
       "\n",
       "    .dataframe thead th {\n",
       "        text-align: right;\n",
       "    }\n",
       "</style>\n",
       "<table border=\"1\" class=\"dataframe\">\n",
       "  <thead>\n",
       "    <tr style=\"text-align: right;\">\n",
       "      <th></th>\n",
       "      <th>dates</th>\n",
       "      <th>weights</th>\n",
       "      <th>month</th>\n",
       "      <th>day</th>\n",
       "    </tr>\n",
       "  </thead>\n",
       "  <tbody>\n",
       "    <tr>\n",
       "      <th>0</th>\n",
       "      <td>3/9/22</td>\n",
       "      <td>240.4</td>\n",
       "      <td>3</td>\n",
       "      <td>9</td>\n",
       "    </tr>\n",
       "    <tr>\n",
       "      <th>1</th>\n",
       "      <td>8/23/22</td>\n",
       "      <td>230.6</td>\n",
       "      <td>8</td>\n",
       "      <td>23</td>\n",
       "    </tr>\n",
       "    <tr>\n",
       "      <th>2</th>\n",
       "      <td>8/22/22</td>\n",
       "      <td>230.3</td>\n",
       "      <td>8</td>\n",
       "      <td>22</td>\n",
       "    </tr>\n",
       "    <tr>\n",
       "      <th>3</th>\n",
       "      <td>8/21/22</td>\n",
       "      <td>230.8</td>\n",
       "      <td>8</td>\n",
       "      <td>21</td>\n",
       "    </tr>\n",
       "    <tr>\n",
       "      <th>4</th>\n",
       "      <td>8/20/22</td>\n",
       "      <td>227.6</td>\n",
       "      <td>8</td>\n",
       "      <td>20</td>\n",
       "    </tr>\n",
       "  </tbody>\n",
       "</table>\n",
       "</div>"
      ],
      "text/plain": [
       "     dates weights month day\n",
       "0   3/9/22   240.4     3   9\n",
       "1  8/23/22   230.6     8  23\n",
       "2  8/22/22   230.3     8  22\n",
       "3  8/21/22   230.8     8  21\n",
       "4  8/20/22   227.6     8  20"
      ]
     },
     "execution_count": 60,
     "metadata": {},
     "output_type": "execute_result"
    }
   ],
   "source": [
    "df['month'] = df.dates.str.split('/').str[0]\n",
    "df['day'] = df.dates.str.split('/').str[1]\n",
    "df.head()"
   ]
  },
  {
   "cell_type": "code",
   "execution_count": 61,
   "id": "6a36ee6a-2c32-438b-baae-3d1a54de5cb2",
   "metadata": {},
   "outputs": [
    {
     "data": {
      "text/html": [
       "<div>\n",
       "<style scoped>\n",
       "    .dataframe tbody tr th:only-of-type {\n",
       "        vertical-align: middle;\n",
       "    }\n",
       "\n",
       "    .dataframe tbody tr th {\n",
       "        vertical-align: top;\n",
       "    }\n",
       "\n",
       "    .dataframe thead th {\n",
       "        text-align: right;\n",
       "    }\n",
       "</style>\n",
       "<table border=\"1\" class=\"dataframe\">\n",
       "  <thead>\n",
       "    <tr style=\"text-align: right;\">\n",
       "      <th></th>\n",
       "      <th>dates</th>\n",
       "      <th>weights</th>\n",
       "      <th>month</th>\n",
       "      <th>day</th>\n",
       "    </tr>\n",
       "  </thead>\n",
       "  <tbody>\n",
       "    <tr>\n",
       "      <th>181</th>\n",
       "      <td>2/21/22</td>\n",
       "      <td>239.1</td>\n",
       "      <td>2</td>\n",
       "      <td>21</td>\n",
       "    </tr>\n",
       "    <tr>\n",
       "      <th>180</th>\n",
       "      <td>2/22/22</td>\n",
       "      <td>240.5</td>\n",
       "      <td>2</td>\n",
       "      <td>22</td>\n",
       "    </tr>\n",
       "    <tr>\n",
       "      <th>179</th>\n",
       "      <td>2/23/22</td>\n",
       "      <td>244.1</td>\n",
       "      <td>2</td>\n",
       "      <td>23</td>\n",
       "    </tr>\n",
       "    <tr>\n",
       "      <th>178</th>\n",
       "      <td>2/25/22</td>\n",
       "      <td>244.4</td>\n",
       "      <td>2</td>\n",
       "      <td>25</td>\n",
       "    </tr>\n",
       "    <tr>\n",
       "      <th>177</th>\n",
       "      <td>2/27/22</td>\n",
       "      <td>239.5</td>\n",
       "      <td>2</td>\n",
       "      <td>27</td>\n",
       "    </tr>\n",
       "  </tbody>\n",
       "</table>\n",
       "</div>"
      ],
      "text/plain": [
       "       dates weights month day\n",
       "181  2/21/22   239.1     2  21\n",
       "180  2/22/22   240.5     2  22\n",
       "179  2/23/22   244.1     2  23\n",
       "178  2/25/22   244.4     2  25\n",
       "177  2/27/22   239.5     2  27"
      ]
     },
     "execution_count": 61,
     "metadata": {},
     "output_type": "execute_result"
    }
   ],
   "source": [
    "df = df.sort_values(by =['month', 'day'])\n",
    "df.head()"
   ]
  },
  {
   "cell_type": "code",
   "execution_count": 62,
   "id": "fd2b0038-780b-4d16-84e4-ab15e9ae321a",
   "metadata": {},
   "outputs": [],
   "source": [
    "# df.to_csv(\"parsed_dad_weights.csv\", index=False, header=True)"
   ]
  },
  {
   "cell_type": "markdown",
   "id": "a1188d39-9c75-432e-ac8e-53554e34edd8",
   "metadata": {},
   "source": [
    "## Now we can plot it"
   ]
  },
  {
   "cell_type": "code",
   "execution_count": 79,
   "id": "1111e225-92f7-48c4-a4bc-0a430bbc85af",
   "metadata": {},
   "outputs": [
    {
     "name": "stdout",
     "output_type": "stream",
     "text": [
      "(179, 4)\n"
     ]
    },
    {
     "data": {
      "text/html": [
       "<div>\n",
       "<style scoped>\n",
       "    .dataframe tbody tr th:only-of-type {\n",
       "        vertical-align: middle;\n",
       "    }\n",
       "\n",
       "    .dataframe tbody tr th {\n",
       "        vertical-align: top;\n",
       "    }\n",
       "\n",
       "    .dataframe thead th {\n",
       "        text-align: right;\n",
       "    }\n",
       "</style>\n",
       "<table border=\"1\" class=\"dataframe\">\n",
       "  <thead>\n",
       "    <tr style=\"text-align: right;\">\n",
       "      <th></th>\n",
       "      <th>dates</th>\n",
       "      <th>weights</th>\n",
       "      <th>month</th>\n",
       "      <th>day</th>\n",
       "    </tr>\n",
       "  </thead>\n",
       "  <tbody>\n",
       "    <tr>\n",
       "      <th>0</th>\n",
       "      <td>2/21/22</td>\n",
       "      <td>239.1</td>\n",
       "      <td>2</td>\n",
       "      <td>21</td>\n",
       "    </tr>\n",
       "    <tr>\n",
       "      <th>1</th>\n",
       "      <td>2/22/22</td>\n",
       "      <td>240.5</td>\n",
       "      <td>2</td>\n",
       "      <td>22</td>\n",
       "    </tr>\n",
       "    <tr>\n",
       "      <th>2</th>\n",
       "      <td>2/23/22</td>\n",
       "      <td>244.1</td>\n",
       "      <td>2</td>\n",
       "      <td>23</td>\n",
       "    </tr>\n",
       "    <tr>\n",
       "      <th>3</th>\n",
       "      <td>2/25/22</td>\n",
       "      <td>244.4</td>\n",
       "      <td>2</td>\n",
       "      <td>25</td>\n",
       "    </tr>\n",
       "    <tr>\n",
       "      <th>4</th>\n",
       "      <td>2/27/22</td>\n",
       "      <td>239.5</td>\n",
       "      <td>2</td>\n",
       "      <td>27</td>\n",
       "    </tr>\n",
       "  </tbody>\n",
       "</table>\n",
       "</div>"
      ],
      "text/plain": [
       "     dates  weights  month  day\n",
       "0  2/21/22    239.1      2   21\n",
       "1  2/22/22    240.5      2   22\n",
       "2  2/23/22    244.1      2   23\n",
       "3  2/25/22    244.4      2   25\n",
       "4  2/27/22    239.5      2   27"
      ]
     },
     "execution_count": 79,
     "metadata": {},
     "output_type": "execute_result"
    }
   ],
   "source": [
    "df = pd.read_csv('parsed_dad_weights.csv')\n",
    "df['weights'] = df.weights.astype(float)\n",
    "df = df.loc[df.weights > 100,]\n",
    "print(df.shape)\n",
    "df.head()"
   ]
  },
  {
   "cell_type": "code",
   "execution_count": 86,
   "id": "d2e56049-df66-4140-b655-4eb79478d252",
   "metadata": {},
   "outputs": [],
   "source": [
    "dates_to_label = df.loc[[0,floor(df.shape[0]/4), 2*floor(df.shape[0]/4), 3*floor(df.shape[0]/4), df.shape[0]],]"
   ]
  },
  {
   "cell_type": "code",
   "execution_count": 89,
   "id": "09d6072c-ee9e-4610-8404-928da06907bc",
   "metadata": {},
   "outputs": [
    {
     "data": {
      "text/plain": [
       "([<matplotlib.axis.XTick at 0x7faa66103970>,\n",
       "  <matplotlib.axis.XTick at 0x7faa66103df0>,\n",
       "  <matplotlib.axis.XTick at 0x7faa65fd5130>,\n",
       "  <matplotlib.axis.XTick at 0x7faa65c8c970>,\n",
       "  <matplotlib.axis.XTick at 0x7faa65cb8100>],\n",
       " [Text(0, 0, '2/21/22'),\n",
       "  Text(44, 0, '4/19/22'),\n",
       "  Text(88, 0, '5/26/22'),\n",
       "  Text(132, 0, '7/15/22'),\n",
       "  Text(179, 0, '8/7/22')])"
      ]
     },
     "execution_count": 89,
     "metadata": {},
     "output_type": "execute_result"
    },
    {
     "data": {
      "image/png": "[encoded data removed]",
      "text/plain": [
       "<Figure size 1080x576 with 1 Axes>"
      ]
     },
     "metadata": {
      "needs_background": "light"
     },
     "output_type": "display_data"
    }
   ],
   "source": [
    "plt.figure(figsize=(15, 8))\n",
    "plt.plot(range(0,df.shape[0]), df['weights'], linewidth=0, marker='.')\n",
    "plt.xticks(ticks=dates_to_label.index,\n",
    "          labels=dates_to_label['dates'],)"
   ]
  },
  {
   "cell_type": "code",
   "execution_count": 90,
   "id": "90958287-dee1-4987-9cd7-21c8565822eb",
   "metadata": {},
   "outputs": [
    {
     "data": {
      "text/plain": [
       "{'whiskers': [<matplotlib.lines.Line2D at 0x7faa6610d940>,\n",
       "  <matplotlib.lines.Line2D at 0x7faa6610ddc0>],\n",
       " 'caps': [<matplotlib.lines.Line2D at 0x7faa6610dd60>,\n",
       "  <matplotlib.lines.Line2D at 0x7faa6610d4f0>],\n",
       " 'boxes': [<matplotlib.lines.Line2D at 0x7faa65ede6d0>],\n",
       " 'medians': [<matplotlib.lines.Line2D at 0x7faa66104a60>],\n",
       " 'fliers': [<matplotlib.lines.Line2D at 0x7faa661043d0>],\n",
       " 'means': []}"
      ]
     },
     "execution_count": 90,
     "metadata": {},
     "output_type": "execute_result"
    },
    {
     "data": {
      "image/png": "[encoded data removed]",
      "text/plain": [
       "<Figure size 432x288 with 1 Axes>"
      ]
     },
     "metadata": {
      "needs_background": "light"
     },
     "output_type": "display_data"
    }
   ],
   "source": [
    "plt.boxplot(df['weights'])"
   ]
  },
  {
   "cell_type": "code",
   "execution_count": 92,
   "id": "3acbd10d-ab65-4755-87f7-ab48c236db3e",
   "metadata": {},
   "outputs": [
    {
     "data": {
      "text/plain": [
       "count    179.000000\n",
       "mean     238.608939\n",
       "std        4.342982\n",
       "min      227.600000\n",
       "25%      235.350000\n",
       "50%      238.300000\n",
       "75%      242.400000\n",
       "max      246.800000\n",
       "Name: weights, dtype: float64"
      ]
     },
     "execution_count": 92,
     "metadata": {},
     "output_type": "execute_result"
    }
   ],
   "source": [
    "df['weights'].describe()"
   ]
  }
 ],
 "metadata": {
  "kernelspec": {
   "display_name": "Python 3.9.12 (stats)",
   "language": "python",
   "name": "stats"
  },
  "language_info": {
   "codemirror_mode": {
    "name": "ipython",
    "version": 3
   },
   "file_extension": ".py",
   "mimetype": "text/x-python",
   "name": "python",
   "nbconvert_exporter": "python",
   "pygments_lexer": "ipython3",
   "version": "3.9.12"
  }
 },
 "nbformat": 4,
 "nbformat_minor": 5
}
